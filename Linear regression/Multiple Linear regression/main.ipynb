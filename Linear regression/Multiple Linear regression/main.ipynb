{
 "cells": [
  {
   "cell_type": "code",
   "execution_count": 19,
   "metadata": {},
   "outputs": [],
   "source": [
    "import numpy as np \n",
    "import pandas as pd \n",
    "import matplotlib.pyplot as plt\n"
   ]
  },
  {
   "cell_type": "code",
   "execution_count": 20,
   "metadata": {},
   "outputs": [],
   "source": [
    "#import the dataset\n",
    "df=pd.read_csv(\"data.csv\")"
   ]
  },
  {
   "cell_type": "code",
   "execution_count": 21,
   "metadata": {},
   "outputs": [
    {
     "data": {
      "text/html": [
       "<div>\n",
       "<style scoped>\n",
       "    .dataframe tbody tr th:only-of-type {\n",
       "        vertical-align: middle;\n",
       "    }\n",
       "\n",
       "    .dataframe tbody tr th {\n",
       "        vertical-align: top;\n",
       "    }\n",
       "\n",
       "    .dataframe thead th {\n",
       "        text-align: right;\n",
       "    }\n",
       "</style>\n",
       "<table border=\"1\" class=\"dataframe\">\n",
       "  <thead>\n",
       "    <tr style=\"text-align: right;\">\n",
       "      <th></th>\n",
       "      <th>stroke</th>\n",
       "      <th>horsepower</th>\n",
       "      <th>peakrpm</th>\n",
       "      <th>price</th>\n",
       "    </tr>\n",
       "  </thead>\n",
       "  <tbody>\n",
       "    <tr>\n",
       "      <th>0</th>\n",
       "      <td>2.68</td>\n",
       "      <td>111</td>\n",
       "      <td>5000</td>\n",
       "      <td>13495.0</td>\n",
       "    </tr>\n",
       "    <tr>\n",
       "      <th>1</th>\n",
       "      <td>2.68</td>\n",
       "      <td>111</td>\n",
       "      <td>5000</td>\n",
       "      <td>16500.0</td>\n",
       "    </tr>\n",
       "    <tr>\n",
       "      <th>2</th>\n",
       "      <td>3.47</td>\n",
       "      <td>154</td>\n",
       "      <td>5000</td>\n",
       "      <td>16500.0</td>\n",
       "    </tr>\n",
       "    <tr>\n",
       "      <th>3</th>\n",
       "      <td>3.40</td>\n",
       "      <td>102</td>\n",
       "      <td>5500</td>\n",
       "      <td>13950.0</td>\n",
       "    </tr>\n",
       "    <tr>\n",
       "      <th>4</th>\n",
       "      <td>3.40</td>\n",
       "      <td>115</td>\n",
       "      <td>5500</td>\n",
       "      <td>17450.0</td>\n",
       "    </tr>\n",
       "  </tbody>\n",
       "</table>\n",
       "</div>"
      ],
      "text/plain": [
       "   stroke  horsepower  peakrpm    price\n",
       "0    2.68         111     5000  13495.0\n",
       "1    2.68         111     5000  16500.0\n",
       "2    3.47         154     5000  16500.0\n",
       "3    3.40         102     5500  13950.0\n",
       "4    3.40         115     5500  17450.0"
      ]
     },
     "execution_count": 21,
     "metadata": {},
     "output_type": "execute_result"
    }
   ],
   "source": [
    "df.head()"
   ]
  },
  {
   "cell_type": "code",
   "execution_count": 22,
   "metadata": {},
   "outputs": [
    {
     "data": {
      "text/plain": [
       "(205, 4)"
      ]
     },
     "execution_count": 22,
     "metadata": {},
     "output_type": "execute_result"
    }
   ],
   "source": [
    "df.shape"
   ]
  },
  {
   "cell_type": "code",
   "execution_count": 23,
   "metadata": {},
   "outputs": [],
   "source": [
    "data=np.array(df)"
   ]
  },
  {
   "cell_type": "code",
   "execution_count": 24,
   "metadata": {},
   "outputs": [],
   "source": [
    "x,y=data[:,0:3],data[:,3:]"
   ]
  },
  {
   "cell_type": "code",
   "execution_count": 25,
   "metadata": {},
   "outputs": [
    {
     "name": "stdout",
     "output_type": "stream",
     "text": [
      "the first five values are\n"
     ]
    },
    {
     "data": {
      "text/plain": [
       "array([[2.68e+00, 1.11e+02, 5.00e+03],\n",
       "       [2.68e+00, 1.11e+02, 5.00e+03],\n",
       "       [3.47e+00, 1.54e+02, 5.00e+03],\n",
       "       [3.40e+00, 1.02e+02, 5.50e+03],\n",
       "       [3.40e+00, 1.15e+02, 5.50e+03]])"
      ]
     },
     "execution_count": 25,
     "metadata": {},
     "output_type": "execute_result"
    }
   ],
   "source": [
    "print(\"the first five values are\")\n",
    "x[0:5]\n"
   ]
  },
  {
   "cell_type": "code",
   "execution_count": 26,
   "metadata": {},
   "outputs": [
    {
     "name": "stdout",
     "output_type": "stream",
     "text": [
      "the first five target variale are\n"
     ]
    },
    {
     "data": {
      "text/plain": [
       "array([[13495.],\n",
       "       [16500.],\n",
       "       [16500.],\n",
       "       [13950.],\n",
       "       [17450.]])"
      ]
     },
     "execution_count": 26,
     "metadata": {},
     "output_type": "execute_result"
    }
   ],
   "source": [
    "print(\"the first five target variale are\")\n",
    "y[0:5]"
   ]
  },
  {
   "cell_type": "code",
   "execution_count": 28,
   "metadata": {},
   "outputs": [
    {
     "data": {
      "text/plain": [
       "(205, 3)"
      ]
     },
     "execution_count": 28,
     "metadata": {},
     "output_type": "execute_result"
    }
   ],
   "source": [
    "x.shape"
   ]
  },
  {
   "cell_type": "code",
   "execution_count": 33,
   "metadata": {},
   "outputs": [],
   "source": [
    "xtrain,xtest, ytrain,ytest=x[0:150],x[150:],y[0:150],y[150:]"
   ]
  },
  {
   "cell_type": "code",
   "execution_count": 34,
   "metadata": {},
   "outputs": [
    {
     "name": "stdout",
     "output_type": "stream",
     "text": [
      "the first five train values are\n"
     ]
    },
    {
     "data": {
      "text/plain": [
       "array([[2.68e+00, 1.11e+02, 5.00e+03],\n",
       "       [2.68e+00, 1.11e+02, 5.00e+03],\n",
       "       [3.47e+00, 1.54e+02, 5.00e+03],\n",
       "       [3.40e+00, 1.02e+02, 5.50e+03],\n",
       "       [3.40e+00, 1.15e+02, 5.50e+03]])"
      ]
     },
     "execution_count": 34,
     "metadata": {},
     "output_type": "execute_result"
    }
   ],
   "source": [
    "print(\"the first five train values are\")\n",
    "xtrain[0:5]"
   ]
  },
  {
   "cell_type": "code",
   "execution_count": 36,
   "metadata": {},
   "outputs": [
    {
     "name": "stdout",
     "output_type": "stream",
     "text": [
      "the first five train target label are:\n"
     ]
    },
    {
     "data": {
      "text/plain": [
       "array([[13495.],\n",
       "       [16500.],\n",
       "       [16500.],\n",
       "       [13950.],\n",
       "       [17450.]])"
      ]
     },
     "execution_count": 36,
     "metadata": {},
     "output_type": "execute_result"
    }
   ],
   "source": [
    "print(f\"the first five train target label are:\")\n",
    "ytrain[0:5]"
   ]
  },
  {
   "cell_type": "code",
   "execution_count": 38,
   "metadata": {},
   "outputs": [
    {
     "name": "stdout",
     "output_type": "stream",
     "text": [
      "the values of len of x is 150\n"
     ]
    }
   ],
   "source": [
    "xtest[1]\n",
    "print(f\"the values of len of x is {len(xtrain)}\")"
   ]
  },
  {
   "cell_type": "code",
   "execution_count": 40,
   "metadata": {},
   "outputs": [
    {
     "data": {
      "text/plain": [
       "array([[2.68e+00, 1.11e+02, 5.00e+03],\n",
       "       [2.68e+00, 1.11e+02, 5.00e+03]])"
      ]
     },
     "execution_count": 40,
     "metadata": {},
     "output_type": "execute_result"
    }
   ],
   "source": [
    "x[0:2]"
   ]
  },
  {
   "cell_type": "markdown",
   "metadata": {},
   "source": [
    "#defining the cost function"
   ]
  },
  {
   "cell_type": "code",
   "execution_count": 59,
   "metadata": {},
   "outputs": [],
   "source": [
    "#defining the cost function to compute the cost\n",
    "def compute_cost(w,b,x,y):\n",
    "    Cost=0\n",
    "    for k in range(len(x)):\n",
    "        cost=((np.dot(w,x[k])+b)-(y[k]))**2\n",
    "        Cost+=cost\n",
    "    Cost=(1/(2*len(x)))*Cost\n",
    "    return Cost\n",
    "    "
   ]
  },
  {
   "cell_type": "markdown",
   "metadata": {},
   "source": [
    "#testing the cost function"
   ]
  },
  {
   "cell_type": "code",
   "execution_count": 60,
   "metadata": {},
   "outputs": [
    {
     "name": "stdout",
     "output_type": "stream",
     "text": [
      "the computes cosst is [49973702.0212]\n"
     ]
    }
   ],
   "source": [
    "wtest=np.array([1,1,1])\n",
    "btest=0\n",
    "print(f\"the computes cosst is {compute_cost(wtest,btest,x[0:2],y[0:2])}\")"
   ]
  },
  {
   "cell_type": "markdown",
   "metadata": {},
   "source": [
    "#defining the gradient caluculation function"
   ]
  },
  {
   "cell_type": "code",
   "execution_count": 61,
   "metadata": {},
   "outputs": [],
   "source": [
    "def compute_gradient(w,b,x,y):\n",
    "    djdw=0\n",
    "    djdb=0\n",
    "    m=len(x)\n",
    "    for k in range(m):\n",
    "        dj_dw=((np.dot(w,x[k])+b)-y[k])*(x[k])\n",
    "        dj_db=((np.dot(w,x[k])+b)-y[k])\n",
    "    djdw=dj_dw/(2*m)\n",
    "    djdb=dj_db/(2*m)\n",
    "    return [djdw,djdb]"
   ]
  },
  {
   "cell_type": "markdown",
   "metadata": {},
   "source": [
    "#testing the gradient calculating function"
   ]
  },
  {
   "cell_type": "code",
   "execution_count": 62,
   "metadata": {},
   "outputs": [],
   "source": [
    "djdw,djdb=compute_gradient(wtest,btest,xtest[0:2],ytest[0:2])"
   ]
  },
  {
   "cell_type": "code",
   "execution_count": 64,
   "metadata": {},
   "outputs": [
    {
     "name": "stdout",
     "output_type": "stream",
     "text": [
      "the value of djdw is [-1.11577478e+03 -2.28310350e+04 -1.76756400e+06]\n",
      "the value of djdb is [-368.2425]\n"
     ]
    }
   ],
   "source": [
    "print(f\"the value of djdw is {djdw}\")\n",
    "print(f\"the value of djdb is {djdb}\")"
   ]
  },
  {
   "cell_type": "markdown",
   "metadata": {},
   "source": [
    "#defining the gradient descent"
   ]
  },
  {
   "cell_type": "code",
   "execution_count": 66,
   "metadata": {},
   "outputs": [],
   "source": [
    "def gradient_descent(x,y,w,b,alpha,no_of_iter):\n",
    "    graident_hist=[]\n",
    "    costHist=[]\n",
    "    w_b_Hist=[]\n",
    "    for k in range(no_of_iter):\n",
    "        #computing the gradient values \n",
    "        djdw,djdb=compute_gradient(x,y,w,b)\n",
    "        graident_hist.append([djdw,djdb])\n",
    "        #computing the cost and storing it\n",
    "        cost=compute_cost(x,y,w,b)\n",
    "        costHist.append(cost)\n",
    "        #performing parameter updation and stroing it \n",
    "        w=w-(alpha*(djdw))\n",
    "        b=b-(alpha*(djdb))\n",
    "    return w,b,costHist,graident_hist,w_b_Hist"
   ]
  },
  {
   "cell_type": "code",
   "execution_count": null,
   "metadata": {},
   "outputs": [],
   "source": []
  }
 ],
 "metadata": {
  "kernelspec": {
   "display_name": "Python 3",
   "language": "python",
   "name": "python3"
  },
  "language_info": {
   "codemirror_mode": {
    "name": "ipython",
    "version": 3
   },
   "file_extension": ".py",
   "mimetype": "text/x-python",
   "name": "python",
   "nbconvert_exporter": "python",
   "pygments_lexer": "ipython3",
   "version": "3.10.6"
  }
 },
 "nbformat": 4,
 "nbformat_minor": 2
}
